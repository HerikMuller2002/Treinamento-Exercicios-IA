{
 "cells": [
  {
   "cell_type": "code",
   "execution_count": null,
   "id": "2e20b0e1",
   "metadata": {},
   "outputs": [],
   "source": [
    "# Regressão linear no dataset cars.csv"
   ]
  },
  {
   "cell_type": "code",
   "execution_count": null,
   "id": "b2a11cbd",
   "metadata": {},
   "outputs": [],
   "source": [
    "import pandas as pd # lib para manipulação de dataframe\n",
    "import numpy as np # lib científica para manipulacão de matriz\n",
    "import matplotlib.pyplot as plt # lib para visualização de dados\n",
    "from sklearn.linear_model import LinearRegression # lib de aprendizado de máquina"
   ]
  },
  {
   "cell_type": "code",
   "execution_count": null,
   "id": "651e4020",
   "metadata": {},
   "outputs": [],
   "source": [
    "dataframe = pd.read_csv(\"datasets\\cars.csv\") # armazenando o csv em uma variável"
   ]
  },
  {
   "cell_type": "code",
   "execution_count": null,
   "id": "195b0600",
   "metadata": {},
   "outputs": [],
   "source": [
    "dataframe.head() # visualizando o dataset"
   ]
  },
  {
   "cell_type": "code",
   "execution_count": null,
   "id": "bcc23f52-8cfd-44f8-b17b-9a05f856ea33",
   "metadata": {},
   "outputs": [],
   "source": [
    "dados = dataframe.drop([\"Unnamed: 0\"], axis = 1) # excluindo a coluna de numeração pois não precisarei"
   ]
  },
  {
   "cell_type": "code",
   "execution_count": null,
   "id": "b90b3486-45fc-4826-bf4a-d0ce13214624",
   "metadata": {},
   "outputs": [],
   "source": [
    "# definindo as colunas como variáveis (x,y)\n",
    "x = dados.iloc[:,1].values\n",
    "y = dados.iloc[:,0].values"
   ]
  },
  {
   "cell_type": "code",
   "execution_count": null,
   "id": "a0c6826f-f805-4178-a5dc-820306ecdf4c",
   "metadata": {},
   "outputs": [],
   "source": [
    "correlacao = np.corrcoef(x,y) # calculando a correlação dos dados\n",
    "correlacao # visualizando para verificar se a correlação é forte(boa para fazer regressão linear) ou fraca(ruim para fazer regressão linear)"
   ]
  },
  {
   "cell_type": "code",
   "execution_count": null,
   "id": "c2446245-b172-474f-a95b-18c8dbc47186",
   "metadata": {},
   "outputs": [],
   "source": [
    "x"
   ]
  },
  {
   "cell_type": "code",
   "execution_count": null,
   "id": "c3673557-0756-4403-9dd7-df9ba1404571",
   "metadata": {},
   "outputs": [],
   "source": [
    "x = x.reshape(-1,1) # formato de matriz com uma coluna a mais\n",
    "# Criação do modelo e treinamento (fit indica que o treinamento deve ser executado)\n",
    "modelo = LinearRegression()\n",
    "modelo.fit(x, y)"
   ]
  },
  {
   "cell_type": "code",
   "execution_count": null,
   "id": "39ea8094-107a-4dbc-980e-e9f3d260c10b",
   "metadata": {},
   "outputs": [],
   "source": [
    "# Geração do gráfico com os pontos reais e as previsões\n",
    "plt.scatter(x, y)\n",
    "plt.plot(x, modelo.predict(x), color = 'red')"
   ]
  },
  {
   "cell_type": "code",
   "execution_count": null,
   "id": "50b0b1a0-6e4b-45ab-9530-a2eb5a84e33f",
   "metadata": {},
   "outputs": [],
   "source": [
    "# Previsão da \"distância 22 pés\" usando a fórmula manual\n",
    "# interceptação * inclinação * valor de dist\n",
    "#Qual velocidade se levou 22 pés pra parar?\n",
    "modelo.predict([[22]]) # Previsão utilizando função do sklearn"
   ]
  },
  {
   "cell_type": "code",
   "execution_count": null,
   "id": "e02c388c-f16d-41af-8e93-d217aa2bb1ee",
   "metadata": {},
   "outputs": [],
   "source": []
  }
 ],
 "metadata": {
  "kernelspec": {
   "display_name": "Python 3 (ipykernel)",
   "language": "python",
   "name": "python3"
  },
  "language_info": {
   "codemirror_mode": {
    "name": "ipython",
    "version": 3
   },
   "file_extension": ".py",
   "mimetype": "text/x-python",
   "name": "python",
   "nbconvert_exporter": "python",
   "pygments_lexer": "ipython3",
   "version": "3.9.13"
  }
 },
 "nbformat": 4,
 "nbformat_minor": 5
}
