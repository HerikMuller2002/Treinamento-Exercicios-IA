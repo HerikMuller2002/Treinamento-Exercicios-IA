{
 "cells": [
  {
   "cell_type": "code",
   "execution_count": 27,
   "id": "2e20b0e1",
   "metadata": {},
   "outputs": [],
   "source": [
    "# Regressão linear no dataset cars.csv"
   ]
  },
  {
   "cell_type": "code",
   "execution_count": 57,
   "id": "b2a11cbd",
   "metadata": {},
   "outputs": [],
   "source": [
    "import pandas as pd # lib para manipulação de dataframe\n",
    "import numpy as np # lib científica para manipulacão de matriz\n",
    "import matplotlib.pyplot as plt # lib para visualização de dados\n",
    "from sklearn.linear_model import LinearRegression # lib de aprendizado de máquina"
   ]
  },
  {
   "cell_type": "code",
   "execution_count": 44,
   "id": "651e4020",
   "metadata": {},
   "outputs": [],
   "source": [
    "dataframe = pd.read_csv(\"datasets\\cars.csv\") # armazenando o csv em uma variável"
   ]
  },
  {
   "cell_type": "code",
   "execution_count": 45,
   "id": "195b0600",
   "metadata": {},
   "outputs": [
    {
     "data": {
      "text/html": [
       "<div>\n",
       "<style scoped>\n",
       "    .dataframe tbody tr th:only-of-type {\n",
       "        vertical-align: middle;\n",
       "    }\n",
       "\n",
       "    .dataframe tbody tr th {\n",
       "        vertical-align: top;\n",
       "    }\n",
       "\n",
       "    .dataframe thead th {\n",
       "        text-align: right;\n",
       "    }\n",
       "</style>\n",
       "<table border=\"1\" class=\"dataframe\">\n",
       "  <thead>\n",
       "    <tr style=\"text-align: right;\">\n",
       "      <th></th>\n",
       "      <th>Unnamed: 0</th>\n",
       "      <th>speed</th>\n",
       "      <th>dist</th>\n",
       "    </tr>\n",
       "  </thead>\n",
       "  <tbody>\n",
       "    <tr>\n",
       "      <th>0</th>\n",
       "      <td>1</td>\n",
       "      <td>4</td>\n",
       "      <td>2</td>\n",
       "    </tr>\n",
       "    <tr>\n",
       "      <th>1</th>\n",
       "      <td>2</td>\n",
       "      <td>4</td>\n",
       "      <td>10</td>\n",
       "    </tr>\n",
       "    <tr>\n",
       "      <th>2</th>\n",
       "      <td>3</td>\n",
       "      <td>7</td>\n",
       "      <td>4</td>\n",
       "    </tr>\n",
       "    <tr>\n",
       "      <th>3</th>\n",
       "      <td>4</td>\n",
       "      <td>7</td>\n",
       "      <td>22</td>\n",
       "    </tr>\n",
       "    <tr>\n",
       "      <th>4</th>\n",
       "      <td>5</td>\n",
       "      <td>8</td>\n",
       "      <td>16</td>\n",
       "    </tr>\n",
       "  </tbody>\n",
       "</table>\n",
       "</div>"
      ],
      "text/plain": [
       "   Unnamed: 0  speed  dist\n",
       "0           1      4     2\n",
       "1           2      4    10\n",
       "2           3      7     4\n",
       "3           4      7    22\n",
       "4           5      8    16"
      ]
     },
     "execution_count": 45,
     "metadata": {},
     "output_type": "execute_result"
    }
   ],
   "source": [
    "dataframe.head() # visualizando o dataset"
   ]
  },
  {
   "cell_type": "code",
   "execution_count": 46,
   "id": "bcc23f52-8cfd-44f8-b17b-9a05f856ea33",
   "metadata": {},
   "outputs": [],
   "source": [
    "dados = dataframe.drop([\"Unnamed: 0\"], axis = 1) # excluindo a coluna de numeração pois não precisarei"
   ]
  },
  {
   "cell_type": "code",
   "execution_count": 47,
   "id": "b90b3486-45fc-4826-bf4a-d0ce13214624",
   "metadata": {},
   "outputs": [],
   "source": [
    "# definindo as colunas como variáveis (x,y)\n",
    "x = dados.iloc[:,1].values\n",
    "y = dados.iloc[:,0].values"
   ]
  },
  {
   "cell_type": "code",
   "execution_count": 48,
   "id": "a0c6826f-f805-4178-a5dc-820306ecdf4c",
   "metadata": {},
   "outputs": [
    {
     "data": {
      "text/plain": [
       "array([[1.       , 0.8068949],\n",
       "       [0.8068949, 1.       ]])"
      ]
     },
     "execution_count": 48,
     "metadata": {},
     "output_type": "execute_result"
    }
   ],
   "source": [
    "correlacao = np.corrcoef(x,y) # calculando a correlação dos dados\n",
    "correlacao # visualizando para verificar se a correlação é forte(boa para fazer regressão linear) ou fraca(ruim para fazer regressão linear)"
   ]
  },
  {
   "cell_type": "code",
   "execution_count": 49,
   "id": "c2446245-b172-474f-a95b-18c8dbc47186",
   "metadata": {},
   "outputs": [
    {
     "data": {
      "text/plain": [
       "array([  2,  10,   4,  22,  16,  10,  18,  26,  34,  17,  28,  14,  20,\n",
       "        24,  28,  26,  34,  34,  46,  26,  36,  60,  80,  20,  26,  54,\n",
       "        32,  40,  32,  40,  50,  42,  56,  76,  84,  36,  46,  68,  32,\n",
       "        48,  52,  56,  64,  66,  54,  70,  92,  93, 120,  85], dtype=int64)"
      ]
     },
     "execution_count": 49,
     "metadata": {},
     "output_type": "execute_result"
    }
   ],
   "source": [
    "x"
   ]
  },
  {
   "cell_type": "code",
   "execution_count": 51,
   "id": "c3673557-0756-4403-9dd7-df9ba1404571",
   "metadata": {},
   "outputs": [
    {
     "data": {
      "text/plain": [
       "LinearRegression()"
      ]
     },
     "execution_count": 51,
     "metadata": {},
     "output_type": "execute_result"
    }
   ],
   "source": [
    "x = x.reshape(-1,1) # formato de matriz com uma coluna a mais\n",
    "# Criação do modelo e treinamento (fit indica que o treinamento deve ser executado)\n",
    "modelo = LinearRegression()\n",
    "modelo.fit(x, y)"
   ]
  },
  {
   "cell_type": "code",
   "execution_count": 55,
   "id": "39ea8094-107a-4dbc-980e-e9f3d260c10b",
   "metadata": {},
   "outputs": [
    {
     "data": {
      "text/plain": [
       "[<matplotlib.lines.Line2D at 0x187885a5d90>]"
      ]
     },
     "execution_count": 55,
     "metadata": {},
     "output_type": "execute_result"
    },
    {
     "data": {
      "image/png": "[encoded data removed]",
      "text/plain": [
       "<Figure size 800x550 with 1 Axes>"
      ]
     },
     "metadata": {},
     "output_type": "display_data"
    }
   ],
   "source": [
    "# Geração do gráfico com os pontos reais e as previsões\n",
    "plt.scatter(x, y)\n",
    "plt.plot(x, modelo.predict(x), color = 'red')"
   ]
  },
  {
   "cell_type": "code",
   "execution_count": 56,
   "id": "50b0b1a0-6e4b-45ab-9530-a2eb5a84e33f",
   "metadata": {},
   "outputs": [
    {
     "data": {
      "text/plain": [
       "array([11.92639228])"
      ]
     },
     "execution_count": 56,
     "metadata": {},
     "output_type": "execute_result"
    }
   ],
   "source": [
    "# Previsão da \"distância 22 pés\" usando a fórmula manual\n",
    "# interceptação * inclinação * valor de dist\n",
    "#Qual velocidade se levou 22 pés pra parar?\n",
    "modelo.predict([[22]]) # Previsão utilizando função do sklearn"
   ]
  },
  {
   "cell_type": "code",
   "execution_count": null,
   "id": "e02c388c-f16d-41af-8e93-d217aa2bb1ee",
   "metadata": {},
   "outputs": [],
   "source": []
  }
 ],
 "metadata": {
  "kernelspec": {
   "display_name": "Python 3 (ipykernel)",
   "language": "python",
   "name": "python3"
  },
  "language_info": {
   "codemirror_mode": {
    "name": "ipython",
    "version": 3
   },
   "file_extension": ".py",
   "mimetype": "text/x-python",
   "name": "python",
   "nbconvert_exporter": "python",
   "pygments_lexer": "ipython3",
   "version": "3.9.13"
  }
 },
 "nbformat": 4,
 "nbformat_minor": 5
}
